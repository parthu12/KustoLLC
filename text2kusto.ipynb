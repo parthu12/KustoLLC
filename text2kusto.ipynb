{
 "cells": [
  {
   "cell_type": "code",
   "execution_count": 87,
   "metadata": {},
   "outputs": [
    {
     "name": "stdout",
     "output_type": "stream",
     "text": [
      "huggingface/tokenizers: The current process just got forked, after parallelism has already been used. Disabling parallelism to avoid deadlocks...\n",
      "To disable this warning, you can either:\n",
      "\t- Avoid using `tokenizers` before the fork if possible\n",
      "\t- Explicitly set the environment variable TOKENIZERS_PARALLELISM=(true | false)\n",
      "Defaulting to user installation because normal site-packages is not writeable\n",
      "Requirement already satisfied: nl2query in /Users/parthunallapu/Library/Python/3.9/lib/python/site-packages (0.1.5)\n",
      "Requirement already satisfied: azure-kusto-data in /Users/parthunallapu/Library/Python/3.9/lib/python/site-packages (4.2.0)\n",
      "Requirement already satisfied: pandas<2.0.0,>=1.5.3 in /Users/parthunallapu/Library/Python/3.9/lib/python/site-packages (from nl2query) (1.5.3)\n",
      "Requirement already satisfied: regex<2024.0.0,>=2023.6.3 in /Users/parthunallapu/Library/Python/3.9/lib/python/site-packages (from nl2query) (2023.8.8)\n",
      "Requirement already satisfied: torch<3.0.0,>=2.0.1 in /Users/parthunallapu/Library/Python/3.9/lib/python/site-packages (from nl2query) (2.0.1)\n",
      "Requirement already satisfied: transformers<5.0.0,>=4.31.0 in /Users/parthunallapu/Library/Python/3.9/lib/python/site-packages (from nl2query) (4.33.3)\n",
      "Requirement already satisfied: python-dateutil>=2.8.0 in /Users/parthunallapu/Library/Python/3.9/lib/python/site-packages (from azure-kusto-data) (2.8.2)\n",
      "Requirement already satisfied: requests>=2.13.0 in /Users/parthunallapu/Library/Python/3.9/lib/python/site-packages (from azure-kusto-data) (2.31.0)\n",
      "Requirement already satisfied: azure-identity<2,>=1.5.0 in /Users/parthunallapu/Library/Python/3.9/lib/python/site-packages (from azure-kusto-data) (1.14.0)\n",
      "Requirement already satisfied: msal<2,>=1.9.0 in /Users/parthunallapu/Library/Python/3.9/lib/python/site-packages (from azure-kusto-data) (1.24.1)\n",
      "Requirement already satisfied: ijson~=3.1 in /Users/parthunallapu/Library/Python/3.9/lib/python/site-packages (from azure-kusto-data) (3.2.3)\n",
      "Requirement already satisfied: azure-core<2,>=1.11.0 in /Users/parthunallapu/Library/Python/3.9/lib/python/site-packages (from azure-kusto-data) (1.29.4)\n",
      "Requirement already satisfied: six>=1.11.0 in /Library/Developer/CommandLineTools/Library/Frameworks/Python3.framework/Versions/3.9/lib/python3.9/site-packages (from azure-core<2,>=1.11.0->azure-kusto-data) (1.15.0)\n",
      "Requirement already satisfied: typing-extensions>=4.6.0 in /Users/parthunallapu/Library/Python/3.9/lib/python/site-packages (from azure-core<2,>=1.11.0->azure-kusto-data) (4.7.1)\n",
      "Requirement already satisfied: cryptography>=2.5 in /Users/parthunallapu/Library/Python/3.9/lib/python/site-packages (from azure-identity<2,>=1.5.0->azure-kusto-data) (41.0.1)\n",
      "Requirement already satisfied: msal-extensions<2.0.0,>=0.3.0 in /Users/parthunallapu/Library/Python/3.9/lib/python/site-packages (from azure-identity<2,>=1.5.0->azure-kusto-data) (1.0.0)\n",
      "Requirement already satisfied: PyJWT[crypto]<3,>=1.0.0 in /Users/parthunallapu/Library/Python/3.9/lib/python/site-packages (from msal<2,>=1.9.0->azure-kusto-data) (2.8.0)\n",
      "Requirement already satisfied: pytz>=2020.1 in /Users/parthunallapu/Library/Python/3.9/lib/python/site-packages (from pandas<2.0.0,>=1.5.3->nl2query) (2022.7.1)\n",
      "Requirement already satisfied: numpy>=1.20.3 in /Users/parthunallapu/Library/Python/3.9/lib/python/site-packages (from pandas<2.0.0,>=1.5.3->nl2query) (1.24.2)\n",
      "Requirement already satisfied: charset-normalizer<4,>=2 in /Users/parthunallapu/Library/Python/3.9/lib/python/site-packages (from requests>=2.13.0->azure-kusto-data) (3.2.0)\n",
      "Requirement already satisfied: idna<4,>=2.5 in /Users/parthunallapu/Library/Python/3.9/lib/python/site-packages (from requests>=2.13.0->azure-kusto-data) (3.4)\n",
      "Requirement already satisfied: urllib3<3,>=1.21.1 in /Users/parthunallapu/Library/Python/3.9/lib/python/site-packages (from requests>=2.13.0->azure-kusto-data) (2.0.4)\n",
      "Requirement already satisfied: certifi>=2017.4.17 in /Users/parthunallapu/Library/Python/3.9/lib/python/site-packages (from requests>=2.13.0->azure-kusto-data) (2023.7.22)\n",
      "Requirement already satisfied: filelock in /Users/parthunallapu/Library/Python/3.9/lib/python/site-packages (from torch<3.0.0,>=2.0.1->nl2query) (3.12.4)\n",
      "Requirement already satisfied: sympy in /Users/parthunallapu/Library/Python/3.9/lib/python/site-packages (from torch<3.0.0,>=2.0.1->nl2query) (1.12)\n",
      "Requirement already satisfied: networkx in /Users/parthunallapu/Library/Python/3.9/lib/python/site-packages (from torch<3.0.0,>=2.0.1->nl2query) (3.1)\n",
      "Requirement already satisfied: jinja2 in /Users/parthunallapu/Library/Python/3.9/lib/python/site-packages (from torch<3.0.0,>=2.0.1->nl2query) (3.1.2)\n",
      "Requirement already satisfied: huggingface-hub<1.0,>=0.15.1 in /Users/parthunallapu/Library/Python/3.9/lib/python/site-packages (from transformers<5.0.0,>=4.31.0->nl2query) (0.17.3)\n",
      "Requirement already satisfied: packaging>=20.0 in /Users/parthunallapu/Library/Python/3.9/lib/python/site-packages (from transformers<5.0.0,>=4.31.0->nl2query) (23.0)\n",
      "Requirement already satisfied: pyyaml>=5.1 in /Users/parthunallapu/Library/Python/3.9/lib/python/site-packages (from transformers<5.0.0,>=4.31.0->nl2query) (6.0)\n",
      "Requirement already satisfied: tokenizers!=0.11.3,<0.14,>=0.11.1 in /Users/parthunallapu/Library/Python/3.9/lib/python/site-packages (from transformers<5.0.0,>=4.31.0->nl2query) (0.13.3)\n",
      "Requirement already satisfied: safetensors>=0.3.1 in /Users/parthunallapu/Library/Python/3.9/lib/python/site-packages (from transformers<5.0.0,>=4.31.0->nl2query) (0.3.3)\n",
      "Requirement already satisfied: tqdm>=4.27 in /Users/parthunallapu/Library/Python/3.9/lib/python/site-packages (from transformers<5.0.0,>=4.31.0->nl2query) (4.66.1)\n",
      "Requirement already satisfied: cffi>=1.12 in /Users/parthunallapu/Library/Python/3.9/lib/python/site-packages (from cryptography>=2.5->azure-identity<2,>=1.5.0->azure-kusto-data) (1.15.1)\n",
      "Requirement already satisfied: fsspec in /Users/parthunallapu/Library/Python/3.9/lib/python/site-packages (from huggingface-hub<1.0,>=0.15.1->transformers<5.0.0,>=4.31.0->nl2query) (2023.9.2)\n",
      "Requirement already satisfied: portalocker<3,>=1.0 in /Users/parthunallapu/Library/Python/3.9/lib/python/site-packages (from msal-extensions<2.0.0,>=0.3.0->azure-identity<2,>=1.5.0->azure-kusto-data) (2.8.2)\n",
      "Requirement already satisfied: MarkupSafe>=2.0 in /Users/parthunallapu/Library/Python/3.9/lib/python/site-packages (from jinja2->torch<3.0.0,>=2.0.1->nl2query) (2.1.2)\n",
      "Requirement already satisfied: mpmath>=0.19 in /Users/parthunallapu/Library/Python/3.9/lib/python/site-packages (from sympy->torch<3.0.0,>=2.0.1->nl2query) (1.3.0)\n",
      "Requirement already satisfied: pycparser in /Users/parthunallapu/Library/Python/3.9/lib/python/site-packages (from cffi>=1.12->cryptography>=2.5->azure-identity<2,>=1.5.0->azure-kusto-data) (2.21)\n",
      "Note: you may need to restart the kernel to use updated packages.\n"
     ]
    }
   ],
   "source": [
    "pip install nl2query azure-kusto-data \n"
   ]
  },
  {
   "cell_type": "code",
   "execution_count": 88,
   "metadata": {},
   "outputs": [],
   "source": [
    "from nl2query import KustoQuery\n",
    "from azure.kusto.data import KustoClient, KustoConnectionStringBuilder"
   ]
  },
  {
   "cell_type": "code",
   "execution_count": 89,
   "metadata": {},
   "outputs": [],
   "source": [
    "cluster_uri = \"https://help.kusto.windows.net\""
   ]
  },
  {
   "cell_type": "code",
   "execution_count": 90,
   "metadata": {},
   "outputs": [],
   "source": [
    "kcsb = KustoConnectionStringBuilder.with_interactive_login(cluster_uri)"
   ]
  },
  {
   "cell_type": "code",
   "execution_count": 231,
   "metadata": {},
   "outputs": [
    {
     "name": "stdout",
     "output_type": "stream",
     "text": [
      "huggingface/tokenizers: The current process just got forked, after parallelism has already been used. Disabling parallelism to avoid deadlocks...\n",
      "To disable this warning, you can either:\n",
      "\t- Avoid using `tokenizers` before the fork if possible\n",
      "\t- Explicitly set the environment variable TOKENIZERS_PARALLELISM=(true | false)\n"
     ]
    }
   ],
   "source": [
    "with KustoClient(kcsb) as kusto_client:\n",
    "    database = \"ContosoSales\"\n",
    "    query = \"Products | getschema\"\n",
    "    response = kusto_client.execute(database, query)\n"
   ]
  },
  {
   "cell_type": "code",
   "execution_count": 113,
   "metadata": {},
   "outputs": [
    {
     "name": "stdout",
     "output_type": "stream",
     "text": [
      "huggingface/tokenizers: The current process just got forked, after parallelism has already been used. Disabling parallelism to avoid deadlocks...\n",
      "To disable this warning, you can either:\n",
      "\t- Avoid using `tokenizers` before the fork if possible\n",
      "\t- Explicitly set the environment variable TOKENIZERS_PARALLELISM=(true | false)\n"
     ]
    }
   ],
   "source": [
    "with KustoClient(kcsb) as kusto_client:\n",
    "    database = \"FindMyPartner\"\n",
    "    query = \"Partner | getschema\"\n",
    "    response = kusto_client.execute(database, query)\n",
    "\n",
    "    "
   ]
  },
  {
   "cell_type": "code",
   "execution_count": 114,
   "metadata": {},
   "outputs": [
    {
     "name": "stdout",
     "output_type": "stream",
     "text": [
      "['Partner', 'FocusGeography', 'PartnerType', 'Website', 'Contact', 'Logo', 'SuccessStories', 'Description', 'MicrosoftPartnerSite']\n"
     ]
    }
   ],
   "source": [
    "cols = [x[0] for x in response.primary_results[0]]\n",
    "print(cols)"
   ]
  },
  {
   "cell_type": "code",
   "execution_count": 116,
   "metadata": {},
   "outputs": [],
   "source": [
    "queryfier = KustoQuery(cols, 'Partner')\n"
   ]
  },
  {
   "cell_type": "code",
   "execution_count": 81,
   "metadata": {},
   "outputs": [],
   "source": [
    "query = queryfier.generate_query('''show me the customers with a first name like \"Ang\" and a city like \"Ball\"''')"
   ]
  },
  {
   "cell_type": "code",
   "execution_count": 108,
   "metadata": {},
   "outputs": [],
   "source": [
    "query = queryfier.generate_query('''show me all manufactures who make color name \"Silver\"''')"
   ]
  },
  {
   "cell_type": "code",
   "execution_count": 124,
   "metadata": {},
   "outputs": [],
   "source": [
    "query = queryfier.generate_query('''show me all partner who has contact \"info@dataCore.co.il\"''')"
   ]
  },
  {
   "cell_type": "code",
   "execution_count": 125,
   "metadata": {},
   "outputs": [
    {
     "data": {
      "text/plain": [
       "'Partner | where Contact == \"info@dataCore.co.il\" | project Partner'"
      ]
     },
     "execution_count": 125,
     "metadata": {},
     "output_type": "execute_result"
    }
   ],
   "source": [
    "query"
   ]
  },
  {
   "cell_type": "code",
   "execution_count": 126,
   "metadata": {},
   "outputs": [
    {
     "name": "stdout",
     "output_type": "stream",
     "text": [
      "huggingface/tokenizers: The current process just got forked, after parallelism has already been used. Disabling parallelism to avoid deadlocks...\n",
      "To disable this warning, you can either:\n",
      "\t- Avoid using `tokenizers` before the fork if possible\n",
      "\t- Explicitly set the environment variable TOKENIZERS_PARALLELISM=(true | false)\n"
     ]
    }
   ],
   "source": [
    "with KustoClient(kcsb) as kusto_client:\n",
    "    database = \"FindMyPartner\"\n",
    "    response = kusto_client.execute(database, query)\n"
   ]
  },
  {
   "cell_type": "code",
   "execution_count": 123,
   "metadata": {},
   "outputs": [
    {
     "name": "stdout",
     "output_type": "stream",
     "text": [
      "{\"name\": \"PrimaryResult\", \"kind\": \"PrimaryResult\", \"data\": []}\n"
     ]
    }
   ],
   "source": [
    "print(response.primary_results[0])"
   ]
  },
  {
   "cell_type": "code",
   "execution_count": 129,
   "metadata": {},
   "outputs": [
    {
     "name": "stdout",
     "output_type": "stream",
     "text": [
      "huggingface/tokenizers: The current process just got forked, after parallelism has already been used. Disabling parallelism to avoid deadlocks...\n",
      "To disable this warning, you can either:\n",
      "\t- Avoid using `tokenizers` before the fork if possible\n",
      "\t- Explicitly set the environment variable TOKENIZERS_PARALLELISM=(true | false)\n"
     ]
    }
   ],
   "source": [
    "with KustoClient(kcsb) as kusto_client:\n",
    "    database = \"Samples\"\n",
    "    query1 = \"StormEvents | getschema\"\n",
    "    response1 = kusto_client.execute(database, query1)\n",
    "    query2 = \"PopulationData | getschema\"\n",
    "    response2 = kusto_client.execute(database, query2)\n",
    "\n",
    "    "
   ]
  },
  {
   "cell_type": "code",
   "execution_count": 137,
   "metadata": {},
   "outputs": [
    {
     "name": "stdout",
     "output_type": "stream",
     "text": [
      "['StartTime', 'EndTime', 'EpisodeId', 'EventId', 'State', 'EventType', 'InjuriesDirect', 'InjuriesIndirect', 'DeathsDirect', 'DeathsIndirect', 'DamageProperty', 'DamageCrops', 'Source', 'BeginLocation', 'EndLocation', 'BeginLat', 'BeginLon', 'EndLat', 'EndLon', 'EpisodeNarrative', 'EventNarrative', 'StormSummary']\n",
      "['State', 'Population']\n"
     ]
    }
   ],
   "source": [
    "cols1 = [x[0] for x in response1.primary_results[0]]\n",
    "print(cols1)\n",
    "cols2 = [x[0] for x in response2.primary_results[0]]\n",
    "print(cols2)\n",
    "queryfier1 = KustoQuery(cols1, 'StormEvents')\n",
    "queryfier2 = KustoQuery(cols2, 'PopulationData')"
   ]
  },
  {
   "cell_type": "code",
   "execution_count": 135,
   "metadata": {},
   "outputs": [],
   "source": [
    "query = queryfier.generate_query('''join storemevents table to population data table on state and project eventID and state''')"
   ]
  },
  {
   "cell_type": "code",
   "execution_count": 136,
   "metadata": {},
   "outputs": [
    {
     "data": {
      "text/plain": [
       "'Populationdata | project State, Population'"
      ]
     },
     "execution_count": 136,
     "metadata": {},
     "output_type": "execute_result"
    }
   ],
   "source": [
    "query"
   ]
  },
  {
   "cell_type": "code",
   "execution_count": 138,
   "metadata": {},
   "outputs": [
    {
     "name": "stdout",
     "output_type": "stream",
     "text": [
      "huggingface/tokenizers: The current process just got forked, after parallelism has already been used. Disabling parallelism to avoid deadlocks...\n",
      "To disable this warning, you can either:\n",
      "\t- Avoid using `tokenizers` before the fork if possible\n",
      "\t- Explicitly set the environment variable TOKENIZERS_PARALLELISM=(true | false)\n"
     ]
    }
   ],
   "source": [
    "with KustoClient(kcsb) as kusto_client:\n",
    "    database = \"ContosoSales\"\n",
    "    query = \"SalesFact | getschema\"\n",
    "    response = kusto_client.execute(database, query)"
   ]
  },
  {
   "cell_type": "code",
   "execution_count": 145,
   "metadata": {},
   "outputs": [
    {
     "name": "stdout",
     "output_type": "stream",
     "text": [
      "['SalesAmount', 'TotalCost', 'DateKey', 'ProductKey', 'CustomerKey']\n"
     ]
    }
   ],
   "source": [
    "cols = [x[0] for x in response.primary_results[0]]\n",
    "print(cols)\n",
    "queryfier = KustoQuery(cols, 'SalesFact')"
   ]
  },
  {
   "cell_type": "code",
   "execution_count": 160,
   "metadata": {},
   "outputs": [],
   "source": [
    "query = queryfier.generate_query('''average sales amount  date key \"2007-04-03T00:00:00Z \" ''')"
   ]
  },
  {
   "cell_type": "code",
   "execution_count": 161,
   "metadata": {},
   "outputs": [
    {
     "data": {
      "text/plain": [
       "'SalesFact | where DateKey == \"2007-04-03T00:00:00Z\" | summarize avg(SalesAmount)'"
      ]
     },
     "execution_count": 161,
     "metadata": {},
     "output_type": "execute_result"
    }
   ],
   "source": [
    "query"
   ]
  },
  {
   "cell_type": "code",
   "execution_count": 168,
   "metadata": {},
   "outputs": [],
   "source": [
    "query1 = queryfier.generate_query('''give any top 5 rows of sales fact table ''')"
   ]
  },
  {
   "cell_type": "code",
   "execution_count": 169,
   "metadata": {},
   "outputs": [
    {
     "data": {
      "text/plain": [
       "'SalesFact | project SalesAmount | order by SalesAmount desc | limit 5'"
      ]
     },
     "execution_count": 169,
     "metadata": {},
     "output_type": "execute_result"
    }
   ],
   "source": [
    "query1"
   ]
  },
  {
   "cell_type": "code",
   "execution_count": 172,
   "metadata": {},
   "outputs": [
    {
     "name": "stderr",
     "output_type": "stream",
     "text": [
      "/Users/parthunallapu/Library/Python/3.9/lib/python/site-packages/transformers/generation/configuration_utils.py:367: UserWarning: `do_sample` is set to `False`. However, `top_p` is set to `0.95` -- this flag is only used in sample-based generation modes. You should set `do_sample=True` or unset `top_p`.\n",
      "  warnings.warn(\n"
     ]
    }
   ],
   "source": [
    "query2 = queryfier.generate_query('''give 2 days data before the  date key \"2007-04-03T00:00:00Z \" ''')"
   ]
  },
  {
   "cell_type": "code",
   "execution_count": 173,
   "metadata": {},
   "outputs": [
    {
     "data": {
      "text/plain": [
       "'SalesFact | where DateKey < datetime(2007-04-03t00:00:00z) | project TotalCost'"
      ]
     },
     "execution_count": 173,
     "metadata": {},
     "output_type": "execute_result"
    }
   ],
   "source": [
    "query2"
   ]
  },
  {
   "cell_type": "code",
   "execution_count": null,
   "metadata": {},
   "outputs": [],
   "source": [
    "query2 = queryfier.generate_query('''give 2 days data before the  date key \"2007-04-03T00:00:00Z \" ''')"
   ]
  },
  {
   "cell_type": "code",
   "execution_count": 232,
   "metadata": {},
   "outputs": [],
   "source": [
    "query3 = queryfier.generate_query('''average sales amount for product key equal to 2,023 and give top 5 product key  \" ''')"
   ]
  },
  {
   "cell_type": "code",
   "execution_count": 233,
   "metadata": {},
   "outputs": [
    {
     "data": {
      "text/plain": [
       "'SalesFact | where ProductKey == \"2,023\" | summarize avg(SalesAmount) by ProductKey | top 5 by avg_SalesAmount desc | project ProductKey'"
      ]
     },
     "execution_count": 233,
     "metadata": {},
     "output_type": "execute_result"
    }
   ],
   "source": [
    "query3"
   ]
  },
  {
   "cell_type": "code",
   "execution_count": 234,
   "metadata": {},
   "outputs": [],
   "source": [
    "query4 = queryfier.generate_query('''give me 10 entries of the data''')"
   ]
  },
  {
   "cell_type": "code",
   "execution_count": 235,
   "metadata": {},
   "outputs": [
    {
     "data": {
      "text/plain": [
       "'SalesFact | summarize sum(SalesAmount) by TotalCost'"
      ]
     },
     "execution_count": 235,
     "metadata": {},
     "output_type": "execute_result"
    }
   ],
   "source": [
    "query4"
   ]
  },
  {
   "cell_type": "code",
   "execution_count": 198,
   "metadata": {},
   "outputs": [],
   "source": [
    "query5 = queryfier.generate_query(''' total number of rows in the table''')"
   ]
  },
  {
   "cell_type": "code",
   "execution_count": 199,
   "metadata": {},
   "outputs": [
    {
     "data": {
      "text/plain": [
       "'SalesFact | summarize count(distinct TotalCost)'"
      ]
     },
     "execution_count": 199,
     "metadata": {},
     "output_type": "execute_result"
    }
   ],
   "source": [
    "query5"
   ]
  },
  {
   "cell_type": "code",
   "execution_count": 200,
   "metadata": {},
   "outputs": [
    {
     "name": "stderr",
     "output_type": "stream",
     "text": [
      "/Users/parthunallapu/Library/Python/3.9/lib/python/site-packages/transformers/generation/configuration_utils.py:367: UserWarning: `do_sample` is set to `False`. However, `top_p` is set to `0.95` -- this flag is only used in sample-based generation modes. You should set `do_sample=True` or unset `top_p`.\n",
      "  warnings.warn(\n"
     ]
    }
   ],
   "source": [
    "query6 = queryfier.generate_query(''' sort the data by sales amount in descending order''')"
   ]
  },
  {
   "cell_type": "code",
   "execution_count": 201,
   "metadata": {},
   "outputs": [
    {
     "data": {
      "text/plain": [
       "'SalesFact | order by SalesAmount desc'"
      ]
     },
     "execution_count": 201,
     "metadata": {},
     "output_type": "execute_result"
    }
   ],
   "source": [
    "query6"
   ]
  },
  {
   "cell_type": "code",
   "execution_count": 224,
   "metadata": {},
   "outputs": [],
   "source": [
    "query7 = queryfier.generate_query('''show top 10 sales amount and total cost of the table''')"
   ]
  },
  {
   "cell_type": "code",
   "execution_count": 225,
   "metadata": {},
   "outputs": [
    {
     "data": {
      "text/plain": [
       "'SalesFact | project SalesAmount, TotalCost | order by SalesAmount desc | limit 10'"
      ]
     },
     "execution_count": 225,
     "metadata": {},
     "output_type": "execute_result"
    }
   ],
   "source": [
    "query7"
   ]
  },
  {
   "cell_type": "code",
   "execution_count": 229,
   "metadata": {},
   "outputs": [
    {
     "name": "stderr",
     "output_type": "stream",
     "text": [
      "/Users/parthunallapu/Library/Python/3.9/lib/python/site-packages/transformers/generation/configuration_utils.py:367: UserWarning: `do_sample` is set to `False`. However, `top_p` is set to `0.95` -- this flag is only used in sample-based generation modes. You should set `do_sample=True` or unset `top_p`.\n",
      "  warnings.warn(\n"
     ]
    }
   ],
   "source": [
    "query8 = queryfier.generate_query('''show me unique product key and sales amount of the table''')"
   ]
  },
  {
   "cell_type": "code",
   "execution_count": 230,
   "metadata": {},
   "outputs": [
    {
     "data": {
      "text/plain": [
       "'SalesFact | distinct ProductKey, SalesAmount'"
      ]
     },
     "execution_count": 230,
     "metadata": {},
     "output_type": "execute_result"
    }
   ],
   "source": [
    "query8"
   ]
  },
  {
   "cell_type": "code",
   "execution_count": 240,
   "metadata": {},
   "outputs": [],
   "source": [
    "query9 = queryfier.generate_query('''show top 10 sales amount   of the table and bottom 10 total cost''')"
   ]
  },
  {
   "cell_type": "code",
   "execution_count": 241,
   "metadata": {},
   "outputs": [
    {
     "data": {
      "text/plain": [
       "'SalesFact | project SalesAmount, TotalCost | order by SalesAmount desc | limit 10'"
      ]
     },
     "execution_count": 241,
     "metadata": {},
     "output_type": "execute_result"
    }
   ],
   "source": [
    "query9"
   ]
  }
 ],
 "metadata": {
  "kernelspec": {
   "display_name": "Python 3",
   "language": "python",
   "name": "python3"
  },
  "language_info": {
   "codemirror_mode": {
    "name": "ipython",
    "version": 3
   },
   "file_extension": ".py",
   "mimetype": "text/x-python",
   "name": "python",
   "nbconvert_exporter": "python",
   "pygments_lexer": "ipython3",
   "version": "3.9.6 (default, May  7 2023, 23:32:44) \n[Clang 14.0.3 (clang-1403.0.22.14.1)]"
  },
  "orig_nbformat": 4,
  "vscode": {
   "interpreter": {
    "hash": "31f2aee4e71d21fbe5cf8b01ff0e069b9275f58929596ceb00d14d90e3e16cd6"
   }
  }
 },
 "nbformat": 4,
 "nbformat_minor": 2
}
