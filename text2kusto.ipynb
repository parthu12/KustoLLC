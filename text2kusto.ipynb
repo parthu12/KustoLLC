{
 "cells": [
  {
   "cell_type": "code",
   "execution_count": 87,
   "metadata": {},
   "outputs": [
    {
     "name": "stdout",
     "output_type": "stream",
     "text": [
      "huggingface/tokenizers: The current process just got forked, after parallelism has already been used. Disabling parallelism to avoid deadlocks...\n",
      "To disable this warning, you can either:\n",
      "\t- Avoid using `tokenizers` before the fork if possible\n",
      "\t- Explicitly set the environment variable TOKENIZERS_PARALLELISM=(true | false)\n",
      "Defaulting to user installation because normal site-packages is not writeable\n",
      "Requirement already satisfied: nl2query in /Users/parthunallapu/Library/Python/3.9/lib/python/site-packages (0.1.5)\n",
      "Requirement already satisfied: azure-kusto-data in /Users/parthunallapu/Library/Python/3.9/lib/python/site-packages (4.2.0)\n",
      "Requirement already satisfied: pandas<2.0.0,>=1.5.3 in /Users/parthunallapu/Library/Python/3.9/lib/python/site-packages (from nl2query) (1.5.3)\n",
      "Requirement already satisfied: regex<2024.0.0,>=2023.6.3 in /Users/parthunallapu/Library/Python/3.9/lib/python/site-packages (from nl2query) (2023.8.8)\n",
      "Requirement already satisfied: torch<3.0.0,>=2.0.1 in /Users/parthunallapu/Library/Python/3.9/lib/python/site-packages (from nl2query) (2.0.1)\n",
      "Requirement already satisfied: transformers<5.0.0,>=4.31.0 in /Users/parthunallapu/Library/Python/3.9/lib/python/site-packages (from nl2query) (4.33.3)\n",
      "Requirement already satisfied: python-dateutil>=2.8.0 in /Users/parthunallapu/Library/Python/3.9/lib/python/site-packages (from azure-kusto-data) (2.8.2)\n",
      "Requirement already satisfied: requests>=2.13.0 in /Users/parthunallapu/Library/Python/3.9/lib/python/site-packages (from azure-kusto-data) (2.31.0)\n",
      "Requirement already satisfied: azure-identity<2,>=1.5.0 in /Users/parthunallapu/Library/Python/3.9/lib/python/site-packages (from azure-kusto-data) (1.14.0)\n",
      "Requirement already satisfied: msal<2,>=1.9.0 in /Users/parthunallapu/Library/Python/3.9/lib/python/site-packages (from azure-kusto-data) (1.24.1)\n",
      "Requirement already satisfied: ijson~=3.1 in /Users/parthunallapu/Library/Python/3.9/lib/python/site-packages (from azure-kusto-data) (3.2.3)\n",
      "Requirement already satisfied: azure-core<2,>=1.11.0 in /Users/parthunallapu/Library/Python/3.9/lib/python/site-packages (from azure-kusto-data) (1.29.4)\n",
      "Requirement already satisfied: six>=1.11.0 in /Library/Developer/CommandLineTools/Library/Frameworks/Python3.framework/Versions/3.9/lib/python3.9/site-packages (from azure-core<2,>=1.11.0->azure-kusto-data) (1.15.0)\n",
      "Requirement already satisfied: typing-extensions>=4.6.0 in /Users/parthunallapu/Library/Python/3.9/lib/python/site-packages (from azure-core<2,>=1.11.0->azure-kusto-data) (4.7.1)\n",
      "Requirement already satisfied: cryptography>=2.5 in /Users/parthunallapu/Library/Python/3.9/lib/python/site-packages (from azure-identity<2,>=1.5.0->azure-kusto-data) (41.0.1)\n",
      "Requirement already satisfied: msal-extensions<2.0.0,>=0.3.0 in /Users/parthunallapu/Library/Python/3.9/lib/python/site-packages (from azure-identity<2,>=1.5.0->azure-kusto-data) (1.0.0)\n",
      "Requirement already satisfied: PyJWT[crypto]<3,>=1.0.0 in /Users/parthunallapu/Library/Python/3.9/lib/python/site-packages (from msal<2,>=1.9.0->azure-kusto-data) (2.8.0)\n",
      "Requirement already satisfied: pytz>=2020.1 in /Users/parthunallapu/Library/Python/3.9/lib/python/site-packages (from pandas<2.0.0,>=1.5.3->nl2query) (2022.7.1)\n",
      "Requirement already satisfied: numpy>=1.20.3 in /Users/parthunallapu/Library/Python/3.9/lib/python/site-packages (from pandas<2.0.0,>=1.5.3->nl2query) (1.24.2)\n",
      "Requirement already satisfied: charset-normalizer<4,>=2 in /Users/parthunallapu/Library/Python/3.9/lib/python/site-packages (from requests>=2.13.0->azure-kusto-data) (3.2.0)\n",
      "Requirement already satisfied: idna<4,>=2.5 in /Users/parthunallapu/Library/Python/3.9/lib/python/site-packages (from requests>=2.13.0->azure-kusto-data) (3.4)\n",
      "Requirement already satisfied: urllib3<3,>=1.21.1 in /Users/parthunallapu/Library/Python/3.9/lib/python/site-packages (from requests>=2.13.0->azure-kusto-data) (2.0.4)\n",
      "Requirement already satisfied: certifi>=2017.4.17 in /Users/parthunallapu/Library/Python/3.9/lib/python/site-packages (from requests>=2.13.0->azure-kusto-data) (2023.7.22)\n",
      "Requirement already satisfied: filelock in /Users/parthunallapu/Library/Python/3.9/lib/python/site-packages (from torch<3.0.0,>=2.0.1->nl2query) (3.12.4)\n",
      "Requirement already satisfied: sympy in /Users/parthunallapu/Library/Python/3.9/lib/python/site-packages (from torch<3.0.0,>=2.0.1->nl2query) (1.12)\n",
      "Requirement already satisfied: networkx in /Users/parthunallapu/Library/Python/3.9/lib/python/site-packages (from torch<3.0.0,>=2.0.1->nl2query) (3.1)\n",
      "Requirement already satisfied: jinja2 in /Users/parthunallapu/Library/Python/3.9/lib/python/site-packages (from torch<3.0.0,>=2.0.1->nl2query) (3.1.2)\n",
      "Requirement already satisfied: huggingface-hub<1.0,>=0.15.1 in /Users/parthunallapu/Library/Python/3.9/lib/python/site-packages (from transformers<5.0.0,>=4.31.0->nl2query) (0.17.3)\n",
      "Requirement already satisfied: packaging>=20.0 in /Users/parthunallapu/Library/Python/3.9/lib/python/site-packages (from transformers<5.0.0,>=4.31.0->nl2query) (23.0)\n",
      "Requirement already satisfied: pyyaml>=5.1 in /Users/parthunallapu/Library/Python/3.9/lib/python/site-packages (from transformers<5.0.0,>=4.31.0->nl2query) (6.0)\n",
      "Requirement already satisfied: tokenizers!=0.11.3,<0.14,>=0.11.1 in /Users/parthunallapu/Library/Python/3.9/lib/python/site-packages (from transformers<5.0.0,>=4.31.0->nl2query) (0.13.3)\n",
      "Requirement already satisfied: safetensors>=0.3.1 in /Users/parthunallapu/Library/Python/3.9/lib/python/site-packages (from transformers<5.0.0,>=4.31.0->nl2query) (0.3.3)\n",
      "Requirement already satisfied: tqdm>=4.27 in /Users/parthunallapu/Library/Python/3.9/lib/python/site-packages (from transformers<5.0.0,>=4.31.0->nl2query) (4.66.1)\n",
      "Requirement already satisfied: cffi>=1.12 in /Users/parthunallapu/Library/Python/3.9/lib/python/site-packages (from cryptography>=2.5->azure-identity<2,>=1.5.0->azure-kusto-data) (1.15.1)\n",
      "Requirement already satisfied: fsspec in /Users/parthunallapu/Library/Python/3.9/lib/python/site-packages (from huggingface-hub<1.0,>=0.15.1->transformers<5.0.0,>=4.31.0->nl2query) (2023.9.2)\n",
      "Requirement already satisfied: portalocker<3,>=1.0 in /Users/parthunallapu/Library/Python/3.9/lib/python/site-packages (from msal-extensions<2.0.0,>=0.3.0->azure-identity<2,>=1.5.0->azure-kusto-data) (2.8.2)\n",
      "Requirement already satisfied: MarkupSafe>=2.0 in /Users/parthunallapu/Library/Python/3.9/lib/python/site-packages (from jinja2->torch<3.0.0,>=2.0.1->nl2query) (2.1.2)\n",
      "Requirement already satisfied: mpmath>=0.19 in /Users/parthunallapu/Library/Python/3.9/lib/python/site-packages (from sympy->torch<3.0.0,>=2.0.1->nl2query) (1.3.0)\n",
      "Requirement already satisfied: pycparser in /Users/parthunallapu/Library/Python/3.9/lib/python/site-packages (from cffi>=1.12->cryptography>=2.5->azure-identity<2,>=1.5.0->azure-kusto-data) (2.21)\n",
      "Note: you may need to restart the kernel to use updated packages.\n"
     ]
    }
   ],
   "source": [
    "pip install nl2query azure-kusto-data \n"
   ]
  },
  {
   "cell_type": "code",
   "execution_count": 88,
   "metadata": {},
   "outputs": [],
   "source": [
    "from nl2query import KustoQuery\n",
    "from azure.kusto.data import KustoClient, KustoConnectionStringBuilder"
   ]
  },
  {
   "cell_type": "code",
   "execution_count": 89,
   "metadata": {},
   "outputs": [],
   "source": [
    "cluster_uri = \"https://help.kusto.windows.net\""
   ]
  },
  {
   "cell_type": "code",
   "execution_count": 90,
   "metadata": {},
   "outputs": [],
   "source": [
    "kcsb = KustoConnectionStringBuilder.with_interactive_login(cluster_uri)"
   ]
  },
  {
   "cell_type": "code",
   "execution_count": 92,
   "metadata": {},
   "outputs": [
    {
     "name": "stdout",
     "output_type": "stream",
     "text": [
      "huggingface/tokenizers: The current process just got forked, after parallelism has already been used. Disabling parallelism to avoid deadlocks...\n",
      "To disable this warning, you can either:\n",
      "\t- Avoid using `tokenizers` before the fork if possible\n",
      "\t- Explicitly set the environment variable TOKENIZERS_PARALLELISM=(true | false)\n"
     ]
    }
   ],
   "source": [
    "with KustoClient(kcsb) as kusto_client:\n",
    "    database = \"ContosoSales\"\n",
    "    query = \"Products | getschema\"\n",
    "    response = kusto_client.execute(database, query)\n",
    "\n",
    "    "
   ]
  },
  {
   "cell_type": "code",
   "execution_count": 113,
   "metadata": {},
   "outputs": [
    {
     "name": "stdout",
     "output_type": "stream",
     "text": [
      "huggingface/tokenizers: The current process just got forked, after parallelism has already been used. Disabling parallelism to avoid deadlocks...\n",
      "To disable this warning, you can either:\n",
      "\t- Avoid using `tokenizers` before the fork if possible\n",
      "\t- Explicitly set the environment variable TOKENIZERS_PARALLELISM=(true | false)\n"
     ]
    }
   ],
   "source": [
    "with KustoClient(kcsb) as kusto_client:\n",
    "    database = \"FindMyPartner\"\n",
    "    query = \"Partner | getschema\"\n",
    "    response = kusto_client.execute(database, query)\n",
    "\n",
    "    "
   ]
  },
  {
   "cell_type": "code",
   "execution_count": 114,
   "metadata": {},
   "outputs": [
    {
     "name": "stdout",
     "output_type": "stream",
     "text": [
      "['Partner', 'FocusGeography', 'PartnerType', 'Website', 'Contact', 'Logo', 'SuccessStories', 'Description', 'MicrosoftPartnerSite']\n"
     ]
    }
   ],
   "source": [
    "cols = [x[0] for x in response.primary_results[0]]\n",
    "print(cols)"
   ]
  },
  {
   "cell_type": "code",
   "execution_count": 116,
   "metadata": {},
   "outputs": [],
   "source": [
    "queryfier = KustoQuery(cols, 'Partner')\n"
   ]
  },
  {
   "cell_type": "code",
   "execution_count": 81,
   "metadata": {},
   "outputs": [],
   "source": [
    "query = queryfier.generate_query('''show me the customers with a first name like \"Ang\" and a city like \"Ball\"''')"
   ]
  },
  {
   "cell_type": "code",
   "execution_count": 108,
   "metadata": {},
   "outputs": [],
   "source": [
    "query = queryfier.generate_query('''show me all manufactures who make color name \"Silver\"''')"
   ]
  },
  {
   "cell_type": "code",
   "execution_count": 124,
   "metadata": {},
   "outputs": [],
   "source": [
    "query = queryfier.generate_query('''show me all partner who has contact \"info@dataCore.co.il\"''')"
   ]
  },
  {
   "cell_type": "code",
   "execution_count": 125,
   "metadata": {},
   "outputs": [
    {
     "data": {
      "text/plain": [
       "'Partner | where Contact == \"info@dataCore.co.il\" | project Partner'"
      ]
     },
     "execution_count": 125,
     "metadata": {},
     "output_type": "execute_result"
    }
   ],
   "source": [
    "query"
   ]
  },
  {
   "cell_type": "code",
   "execution_count": 126,
   "metadata": {},
   "outputs": [
    {
     "name": "stdout",
     "output_type": "stream",
     "text": [
      "huggingface/tokenizers: The current process just got forked, after parallelism has already been used. Disabling parallelism to avoid deadlocks...\n",
      "To disable this warning, you can either:\n",
      "\t- Avoid using `tokenizers` before the fork if possible\n",
      "\t- Explicitly set the environment variable TOKENIZERS_PARALLELISM=(true | false)\n"
     ]
    }
   ],
   "source": [
    "with KustoClient(kcsb) as kusto_client:\n",
    "    database = \"FindMyPartner\"\n",
    "    response = kusto_client.execute(database, query)\n"
   ]
  },
  {
   "cell_type": "code",
   "execution_count": 123,
   "metadata": {},
   "outputs": [
    {
     "name": "stdout",
     "output_type": "stream",
     "text": [
      "{\"name\": \"PrimaryResult\", \"kind\": \"PrimaryResult\", \"data\": []}\n"
     ]
    }
   ],
   "source": [
    "print(response.primary_results[0])"
   ]
  }
 ],
 "metadata": {
  "kernelspec": {
   "display_name": "Python 3",
   "language": "python",
   "name": "python3"
  },
  "language_info": {
   "codemirror_mode": {
    "name": "ipython",
    "version": 3
   },
   "file_extension": ".py",
   "mimetype": "text/x-python",
   "name": "python",
   "nbconvert_exporter": "python",
   "pygments_lexer": "ipython3",
   "version": "3.9.6"
  },
  "orig_nbformat": 4,
  "vscode": {
   "interpreter": {
    "hash": "31f2aee4e71d21fbe5cf8b01ff0e069b9275f58929596ceb00d14d90e3e16cd6"
   }
  }
 },
 "nbformat": 4,
 "nbformat_minor": 2
}
