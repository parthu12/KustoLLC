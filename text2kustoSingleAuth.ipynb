{
 "cells": [
  {
   "cell_type": "code",
   "execution_count": 29,
   "metadata": {},
   "outputs": [
    {
     "name": "stdout",
     "output_type": "stream",
     "text": [
      "Defaulting to user installation because normal site-packages is not writeable\n",
      "Requirement already satisfied: nl2query in /Users/parthunallapu/Library/Python/3.9/lib/python/site-packages (0.1.5)\n",
      "Requirement already satisfied: azure-kusto-data in /Users/parthunallapu/Library/Python/3.9/lib/python/site-packages (4.2.0)\n",
      "Requirement already satisfied: pandas<2.0.0,>=1.5.3 in /Users/parthunallapu/Library/Python/3.9/lib/python/site-packages (from nl2query) (1.5.3)\n",
      "Requirement already satisfied: regex<2024.0.0,>=2023.6.3 in /Users/parthunallapu/Library/Python/3.9/lib/python/site-packages (from nl2query) (2023.8.8)\n",
      "Requirement already satisfied: torch<3.0.0,>=2.0.1 in /Users/parthunallapu/Library/Python/3.9/lib/python/site-packages (from nl2query) (2.0.1)\n",
      "Requirement already satisfied: transformers<5.0.0,>=4.31.0 in /Users/parthunallapu/Library/Python/3.9/lib/python/site-packages (from nl2query) (4.33.3)\n",
      "Requirement already satisfied: python-dateutil>=2.8.0 in /Users/parthunallapu/Library/Python/3.9/lib/python/site-packages (from azure-kusto-data) (2.8.2)\n",
      "Requirement already satisfied: requests>=2.13.0 in /Users/parthunallapu/Library/Python/3.9/lib/python/site-packages (from azure-kusto-data) (2.31.0)\n",
      "Requirement already satisfied: azure-identity<2,>=1.5.0 in /Users/parthunallapu/Library/Python/3.9/lib/python/site-packages (from azure-kusto-data) (1.14.0)\n",
      "Requirement already satisfied: msal<2,>=1.9.0 in /Users/parthunallapu/Library/Python/3.9/lib/python/site-packages (from azure-kusto-data) (1.24.1)\n",
      "Requirement already satisfied: ijson~=3.1 in /Users/parthunallapu/Library/Python/3.9/lib/python/site-packages (from azure-kusto-data) (3.2.3)\n",
      "Requirement already satisfied: azure-core<2,>=1.11.0 in /Users/parthunallapu/Library/Python/3.9/lib/python/site-packages (from azure-kusto-data) (1.29.4)\n",
      "Requirement already satisfied: six>=1.11.0 in /Library/Developer/CommandLineTools/Library/Frameworks/Python3.framework/Versions/3.9/lib/python3.9/site-packages (from azure-core<2,>=1.11.0->azure-kusto-data) (1.15.0)\n",
      "Requirement already satisfied: typing-extensions>=4.6.0 in /Users/parthunallapu/Library/Python/3.9/lib/python/site-packages (from azure-core<2,>=1.11.0->azure-kusto-data) (4.7.1)\n",
      "Requirement already satisfied: cryptography>=2.5 in /Users/parthunallapu/Library/Python/3.9/lib/python/site-packages (from azure-identity<2,>=1.5.0->azure-kusto-data) (41.0.1)\n",
      "Requirement already satisfied: msal-extensions<2.0.0,>=0.3.0 in /Users/parthunallapu/Library/Python/3.9/lib/python/site-packages (from azure-identity<2,>=1.5.0->azure-kusto-data) (1.0.0)\n",
      "Requirement already satisfied: PyJWT[crypto]<3,>=1.0.0 in /Users/parthunallapu/Library/Python/3.9/lib/python/site-packages (from msal<2,>=1.9.0->azure-kusto-data) (2.8.0)\n",
      "Requirement already satisfied: pytz>=2020.1 in /Users/parthunallapu/Library/Python/3.9/lib/python/site-packages (from pandas<2.0.0,>=1.5.3->nl2query) (2022.7.1)\n",
      "Requirement already satisfied: numpy>=1.20.3 in /Users/parthunallapu/Library/Python/3.9/lib/python/site-packages (from pandas<2.0.0,>=1.5.3->nl2query) (1.24.2)\n",
      "Requirement already satisfied: charset-normalizer<4,>=2 in /Users/parthunallapu/Library/Python/3.9/lib/python/site-packages (from requests>=2.13.0->azure-kusto-data) (3.2.0)\n",
      "Requirement already satisfied: idna<4,>=2.5 in /Users/parthunallapu/Library/Python/3.9/lib/python/site-packages (from requests>=2.13.0->azure-kusto-data) (3.4)\n",
      "Requirement already satisfied: urllib3<3,>=1.21.1 in /Users/parthunallapu/Library/Python/3.9/lib/python/site-packages (from requests>=2.13.0->azure-kusto-data) (2.0.4)\n",
      "Requirement already satisfied: certifi>=2017.4.17 in /Users/parthunallapu/Library/Python/3.9/lib/python/site-packages (from requests>=2.13.0->azure-kusto-data) (2023.7.22)\n",
      "Requirement already satisfied: filelock in /Users/parthunallapu/Library/Python/3.9/lib/python/site-packages (from torch<3.0.0,>=2.0.1->nl2query) (3.12.4)\n",
      "Requirement already satisfied: sympy in /Users/parthunallapu/Library/Python/3.9/lib/python/site-packages (from torch<3.0.0,>=2.0.1->nl2query) (1.12)\n",
      "Requirement already satisfied: networkx in /Users/parthunallapu/Library/Python/3.9/lib/python/site-packages (from torch<3.0.0,>=2.0.1->nl2query) (3.1)\n",
      "Requirement already satisfied: jinja2 in /Users/parthunallapu/Library/Python/3.9/lib/python/site-packages (from torch<3.0.0,>=2.0.1->nl2query) (3.1.2)\n",
      "Requirement already satisfied: huggingface-hub<1.0,>=0.15.1 in /Users/parthunallapu/Library/Python/3.9/lib/python/site-packages (from transformers<5.0.0,>=4.31.0->nl2query) (0.17.3)\n",
      "Requirement already satisfied: packaging>=20.0 in /Users/parthunallapu/Library/Python/3.9/lib/python/site-packages (from transformers<5.0.0,>=4.31.0->nl2query) (23.0)\n",
      "Requirement already satisfied: pyyaml>=5.1 in /Users/parthunallapu/Library/Python/3.9/lib/python/site-packages (from transformers<5.0.0,>=4.31.0->nl2query) (6.0)\n",
      "Requirement already satisfied: tokenizers!=0.11.3,<0.14,>=0.11.1 in /Users/parthunallapu/Library/Python/3.9/lib/python/site-packages (from transformers<5.0.0,>=4.31.0->nl2query) (0.13.3)\n",
      "Requirement already satisfied: safetensors>=0.3.1 in /Users/parthunallapu/Library/Python/3.9/lib/python/site-packages (from transformers<5.0.0,>=4.31.0->nl2query) (0.3.3)\n",
      "Requirement already satisfied: tqdm>=4.27 in /Users/parthunallapu/Library/Python/3.9/lib/python/site-packages (from transformers<5.0.0,>=4.31.0->nl2query) (4.66.1)\n",
      "Requirement already satisfied: cffi>=1.12 in /Users/parthunallapu/Library/Python/3.9/lib/python/site-packages (from cryptography>=2.5->azure-identity<2,>=1.5.0->azure-kusto-data) (1.15.1)\n",
      "Requirement already satisfied: fsspec in /Users/parthunallapu/Library/Python/3.9/lib/python/site-packages (from huggingface-hub<1.0,>=0.15.1->transformers<5.0.0,>=4.31.0->nl2query) (2023.9.2)\n",
      "Requirement already satisfied: portalocker<3,>=1.0 in /Users/parthunallapu/Library/Python/3.9/lib/python/site-packages (from msal-extensions<2.0.0,>=0.3.0->azure-identity<2,>=1.5.0->azure-kusto-data) (2.8.2)\n",
      "Requirement already satisfied: MarkupSafe>=2.0 in /Users/parthunallapu/Library/Python/3.9/lib/python/site-packages (from jinja2->torch<3.0.0,>=2.0.1->nl2query) (2.1.2)\n",
      "Requirement already satisfied: mpmath>=0.19 in /Users/parthunallapu/Library/Python/3.9/lib/python/site-packages (from sympy->torch<3.0.0,>=2.0.1->nl2query) (1.3.0)\n",
      "Requirement already satisfied: pycparser in /Users/parthunallapu/Library/Python/3.9/lib/python/site-packages (from cffi>=1.12->cryptography>=2.5->azure-identity<2,>=1.5.0->azure-kusto-data) (2.21)\n",
      "Note: you may need to restart the kernel to use updated packages.\n"
     ]
    }
   ],
   "source": [
    "pip install nl2query azure-kusto-data"
   ]
  },
  {
   "cell_type": "code",
   "execution_count": 31,
   "metadata": {},
   "outputs": [],
   "source": [
    "from azure.kusto.data import KustoClient, KustoConnectionStringBuilder\n",
    "from azure.kusto.data.exceptions import KustoServiceError\n",
    "from azure.kusto.data.helpers import dataframe_from_result_table\n",
    "from nl2query import KustoQuery"
   ]
  },
  {
   "cell_type": "code",
   "execution_count": 3,
   "metadata": {},
   "outputs": [],
   "source": [
    "AAD_TENANT_ID = \"0eadb77e-42dc-47f8-bbe3-ec2395e0712c\"\n",
    "KUSTO_CLUSTER = \"https://help.kusto.windows.net/\"\n"
   ]
  },
  {
   "cell_type": "code",
   "execution_count": 18,
   "metadata": {},
   "outputs": [],
   "source": [
    "def authenticate_toCluster(clusterName, tenantID):\n",
    "    \"\"\"Authenticates to the cluster using AAD device code flow\"\"\"\n",
    "    KCSB = KustoConnectionStringBuilder.with_aad_device_authentication(\n",
    "        clusterName)\n",
    "    KCSB.authority_id = tenantID\n",
    "    return KustoClient(KCSB)\n"
   ]
  },
  {
   "cell_type": "code",
   "execution_count": 19,
   "metadata": {},
   "outputs": [],
   "source": [
    "KUSTO_CLIENT = authenticate_toCluster(KUSTO_CLUSTER, AAD_TENANT_ID)"
   ]
  },
  {
   "cell_type": "code",
   "execution_count": 33,
   "metadata": {},
   "outputs": [],
   "source": [
    "def queryGenerator(cols, tableName, prompt):\n",
    "    queryfier = KustoQuery(cols, tableName)\n",
    "    return queryfier.generate_query(prompt)"
   ]
  },
  {
   "cell_type": "code",
   "execution_count": 34,
   "metadata": {},
   "outputs": [],
   "source": [
    "def queryExecute(database, query):\n",
    "    return KUSTO_CLIENT.execute(database, query)"
   ]
  },
  {
   "cell_type": "code",
   "execution_count": 35,
   "metadata": {},
   "outputs": [],
   "source": [
    "def queryResponse(response):\n",
    "    return dataframe_from_result_table(response.primary_results[0])\n"
   ]
  },
  {
   "cell_type": "code",
   "execution_count": 47,
   "metadata": {},
   "outputs": [],
   "source": [
    "def getDatabase():\n",
    "    database = queryExecute(\"\", \".show databases | project DatabaseName\")\n",
    "    return queryResponse(database)"
   ]
  },
  {
   "cell_type": "code",
   "execution_count": 48,
   "metadata": {},
   "outputs": [],
   "source": [
    "def getTables(database):\n",
    "    tables = queryExecute(database, \".show tables | project TableName\")\n",
    "    return queryResponse(tables)"
   ]
  },
  {
   "cell_type": "code",
   "execution_count": 50,
   "metadata": {},
   "outputs": [],
   "source": [
    "def getColumns(database, table):\n",
    "    columns = queryExecute(database, table + \" | getschema | project ColumnName\")\n",
    "    return queryResponse(columns)"
   ]
  },
  {
   "cell_type": "code",
   "execution_count": 36,
   "metadata": {},
   "outputs": [
    {
     "name": "stdout",
     "output_type": "stream",
     "text": [
      "                  StartTime                   EndTime  EpisodeId  EventId  \\\n",
      "0 2007-09-29 08:11:00+00:00 2007-09-29 08:11:00+00:00      11091    61032   \n",
      "1 2007-09-18 20:00:00+00:00 2007-09-19 18:00:00+00:00      11074    60904   \n",
      "2 2007-09-20 21:57:00+00:00 2007-09-20 22:05:00+00:00      11078    60913   \n",
      "3 2007-12-30 16:00:00+00:00 2007-12-30 16:05:00+00:00      11749    64588   \n",
      "4 2007-12-20 07:50:00+00:00 2007-12-20 07:53:00+00:00      12554    68796   \n",
      "5 2007-12-20 10:32:00+00:00 2007-12-20 10:36:00+00:00      12554    68814   \n",
      "6 2007-12-20 08:47:00+00:00 2007-12-20 08:48:00+00:00      12554    68834   \n",
      "7 2007-12-28 02:03:00+00:00 2007-12-28 02:11:00+00:00      12561    68846   \n",
      "8 2007-12-07 14:00:00+00:00 2007-12-08 04:00:00+00:00      13183    73241   \n",
      "9 2007-12-13 09:02:00+00:00 2007-12-13 10:30:00+00:00      11780    64725   \n",
      "\n",
      "            State          EventType  InjuriesDirect  InjuriesIndirect  \\\n",
      "0  ATLANTIC SOUTH         Waterspout               0                 0   \n",
      "1         FLORIDA         Heavy Rain               0                 0   \n",
      "2         FLORIDA            Tornado               0                 0   \n",
      "3         GEORGIA  Thunderstorm Wind               0                 0   \n",
      "4     MISSISSIPPI  Thunderstorm Wind               0                 0   \n",
      "5     MISSISSIPPI            Tornado               2                 0   \n",
      "6     MISSISSIPPI  Thunderstorm Wind               0                 0   \n",
      "7     MISSISSIPPI               Hail               0                 0   \n",
      "8  AMERICAN SAMOA        Flash Flood               0                 0   \n",
      "9        KENTUCKY              Flood               0                 0   \n",
      "\n",
      "   DeathsDirect  DeathsIndirect  ...                     Source  \\\n",
      "0             0               0  ...            Trained Spotter   \n",
      "1             0               0  ...            Trained Spotter   \n",
      "2             0               0  ...           NWS Storm Survey   \n",
      "3             0               0  ...            Law Enforcement   \n",
      "4             0               0  ...          Emergency Manager   \n",
      "5             0               0  ...           NWS Storm Survey   \n",
      "6             0               0  ...          Emergency Manager   \n",
      "7             0               0  ...                     Public   \n",
      "8             0               0  ...  Official NWS Observations   \n",
      "9             0               0  ...            Law Enforcement   \n",
      "\n",
      "     BeginLocation       EndLocation BeginLat BeginLon   EndLat    EndLon  \\\n",
      "0  MELBOURNE BEACH   MELBOURNE BEACH  28.0393 -80.6048  28.0393  -80.6048   \n",
      "1     ORMOND BEACH  NEW SMYRNA BEACH    29.28   -81.05    29.02    -80.93   \n",
      "2           EUSTIS            EUSTIS  28.8368 -81.6763  28.8628  -81.6846   \n",
      "3            LOTTS             LOTTS    31.56   -82.89    31.56    -82.89   \n",
      "4        CRANFIELD          LEESDALE    31.54   -91.21  31.5452  -91.1948   \n",
      "5          SERVICE           SERVICE  31.6879 -89.2756  31.7085  -89.2538   \n",
      "6       BROOKHAVEN        BROOKHAVEN  31.5613 -90.5095  31.5613   -90.499   \n",
      "7      FRENCH CAMP              WEIR  33.2907 -89.3906  33.3568    -89.28   \n",
      "8        PAGO PAGO         PAGO PAGO    -14.3   -170.6 -14.2577 -170.5669   \n",
      "9        VANCEBURG         VANCEBURG  38.5591 -83.1976  38.5795  -83.2238   \n",
      "\n",
      "                                    EpisodeNarrative  \\\n",
      "0  Showers and thunderstorms lingering along the ...   \n",
      "1        Thunderstorms lingered over Volusia County.   \n",
      "2  As Tropical Depression number 10 began to slow...   \n",
      "3  An area of low pressure developed near the cen...   \n",
      "4  A small, but potent, storm system evolved and ...   \n",
      "5  A small, but potent, storm system evolved and ...   \n",
      "6  A small, but potent, storm system evolved and ...   \n",
      "7  A complex storm system took shape at the end o...   \n",
      "8  A monsoon trough that extends all the way from...   \n",
      "9  Heavy rainfall caused minor flooding in northe...   \n",
      "\n",
      "                                      EventNarrative  \\\n",
      "0  A waterspout formed in the Atlantic southeast ...   \n",
      "1  As much as 9 inches of rain fell in a 24-hour ...   \n",
      "2  A tornado touched down in the Town of Eustis a...   \n",
      "3  The county dispatch reported several trees wer...   \n",
      "4  Numerous large trees were blown down with some...   \n",
      "5  This tornado began as a small, narrow path of ...   \n",
      "6  Several trees and power lines were blown down ...   \n",
      "7  A swath of penny to quarter sized hail fell fr...   \n",
      "8  The heavy rain from an active monsoonal trough...   \n",
      "9  State Route 8 and Rock Run Road were flooded a...   \n",
      "\n",
      "                                        StormSummary  \n",
      "0  {'TotalDamages': 0, 'StartTime': '2007-09-29T0...  \n",
      "1  {'TotalDamages': 0, 'StartTime': '2007-09-18T2...  \n",
      "2  {'TotalDamages': 6200000, 'StartTime': '2007-0...  \n",
      "3  {'TotalDamages': 2000, 'StartTime': '2007-12-3...  \n",
      "4  {'TotalDamages': 20000, 'StartTime': '2007-12-...  \n",
      "5  {'TotalDamages': 450000, 'StartTime': '2007-12...  \n",
      "6  {'TotalDamages': 60000, 'StartTime': '2007-12-...  \n",
      "7  {'TotalDamages': 0, 'StartTime': '2007-12-28T0...  \n",
      "8  {'TotalDamages': 500000, 'StartTime': '2007-12...  \n",
      "9  {'TotalDamages': 1000, 'StartTime': '2007-12-1...  \n",
      "\n",
      "[10 rows x 22 columns]\n"
     ]
    }
   ],
   "source": [
    "response = queryExecute(\"Samples\", \"StormEvents | take 10\")\n",
    "print(queryResponse(response))"
   ]
  },
  {
   "cell_type": "code",
   "execution_count": 25,
   "metadata": {},
   "outputs": [
    {
     "name": "stdout",
     "output_type": "stream",
     "text": [
      "           Partner\n",
      "0  Datacore IL Ltd\n"
     ]
    }
   ],
   "source": [
    "response = queryExecute(\"FindMyPartner\", 'Partner | where Contact == \"info@dataCore.co.il\" | project Partner')\n",
    "print(queryResponse(response))"
   ]
  },
  {
   "cell_type": "code",
   "execution_count": 28,
   "metadata": {},
   "outputs": [
    {
     "name": "stdout",
     "output_type": "stream",
     "text": [
      "   ProductKey\n",
      "0        2023\n"
     ]
    }
   ],
   "source": [
    "response = queryExecute(\"ContosoSales\", 'SalesFact | where ProductKey == 2023 | summarize avg(SalesAmount) by ProductKey | top 5 by avg_SalesAmount desc | project ProductKey')\n",
    "print(queryResponse(response))"
   ]
  },
  {
   "cell_type": "code",
   "execution_count": 38,
   "metadata": {},
   "outputs": [
    {
     "name": "stderr",
     "output_type": "stream",
     "text": [
      "/Users/parthunallapu/Library/Python/3.9/lib/python/site-packages/transformers/generation/configuration_utils.py:367: UserWarning: `do_sample` is set to `False`. However, `top_p` is set to `0.95` -- this flag is only used in sample-based generation modes. You should set `do_sample=True` or unset `top_p`.\n",
      "  warnings.warn(\n"
     ]
    },
    {
     "name": "stdout",
     "output_type": "stream",
     "text": [
      "   avg_SalesAmount\n",
      "0        89.330689\n"
     ]
    }
   ],
   "source": [
    "query = queryGenerator([\"ProductKey\", \"SalesAmount\"], \"SalesFact\", \"What is the average sales amount for product 2023?\")\n",
    "response = queryExecute(\"ContosoSales\",query)\n",
    "print(queryResponse(response))"
   ]
  }
 ],
 "metadata": {
  "kernelspec": {
   "display_name": "Python 3",
   "language": "python",
   "name": "python3"
  },
  "language_info": {
   "codemirror_mode": {
    "name": "ipython",
    "version": 3
   },
   "file_extension": ".py",
   "mimetype": "text/x-python",
   "name": "python",
   "nbconvert_exporter": "python",
   "pygments_lexer": "ipython3",
   "version": "3.9.6"
  },
  "orig_nbformat": 4,
  "vscode": {
   "interpreter": {
    "hash": "31f2aee4e71d21fbe5cf8b01ff0e069b9275f58929596ceb00d14d90e3e16cd6"
   }
  }
 },
 "nbformat": 4,
 "nbformat_minor": 2
}
